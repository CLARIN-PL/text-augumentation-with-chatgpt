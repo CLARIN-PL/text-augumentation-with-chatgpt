{
 "cells": [
  {
   "cell_type": "code",
   "execution_count": 26,
   "id": "fb00ed40-3dbd-433b-ac30-7ae6827bb4ac",
   "metadata": {},
   "outputs": [],
   "source": [
    "import openai\n",
    "from dataset.persent import PerSenTDataset\n",
    "from os.path import join, isfile\n",
    "import pandas as pd\n",
    "from tqdm import tqdm"
   ]
  },
  {
   "cell_type": "code",
   "execution_count": 27,
   "id": "23c88f60",
   "metadata": {},
   "outputs": [],
   "source": [
    "# openai.api_key = "
   ]
  },
  {
   "cell_type": "code",
   "execution_count": 28,
   "id": "98629cc0-4468-4929-ad5f-768c2be10266",
   "metadata": {},
   "outputs": [
    {
     "data": {
      "text/plain": [
       "3355"
      ]
     },
     "execution_count": 28,
     "metadata": {},
     "output_type": "execute_result"
    }
   ],
   "source": [
    "datadir = \"../data/PerSenT\"\n",
    "train_filepath = \"train.csv\"\n",
    "dataset = PerSenTDataset(join(datadir,train_filepath))\n",
    "len(dataset)"
   ]
  },
  {
   "cell_type": "code",
   "execution_count": 29,
   "id": "37c7738c-0c53-4a83-875b-25ab9cfad046",
   "metadata": {},
   "outputs": [
    {
     "data": {
      "text/plain": [
       "('Lubna Hussein was among 13 women arrested July 3 in a raid by the public order police in Khartoum. Ten of the women were fined and flogged two days later. But Hussein and two others decided to go to trial.\\n Hussein said Friday she would rather go to jail than pay any fine  out of protest of the nation\\'s strict laws on women\\'s dress.\\n The case has made headlines in Sudan and around the world and Hussein used it to rally world opinion against the country\\'s morality laws based on a strict interpretation of Islam.\\n Galal al-Sayed  Hussein\\'s lawyer  said he advised her to pay the fine before appealing the decision. She refused  he said  \"She insisted.\"\\n As a U.N. staffer  Hussein should have immunity from prosecution but she has opted to resign so that she could stand trial and draw attention to the case.\\n In a column published in the British daily the Guardian Friday  Hussein said her case is not an isolated one  but is a showcase of repressive laws in a country with a long history of civil conflicts.\\n Hussein said earlier she would take the issue all the way to Sudan\\'s Constitutional Court necessary  but that if the court rules against her and orders the flogging  she\\'s ready \"to receive (even) 40 000 lashes\" if that what it takes to abolish the law.',\n",
       " tensor([0., 0., 1.]))"
      ]
     },
     "execution_count": 29,
     "metadata": {},
     "output_type": "execute_result"
    }
   ],
   "source": [
    "x, y = dataset[6]\n",
    "x, y"
   ]
  },
  {
   "cell_type": "code",
   "execution_count": 30,
   "id": "3e67183b-ba21-4aca-9249-cfbc3d625d70",
   "metadata": {},
   "outputs": [],
   "source": [
    "\n",
    "template_one_paraphrase = \"Generate a paraphrase for the following text, preserving the sentiment of the following statement: {text}\"\n",
    "template_one_more_words = \"Generate another paraphrase by changing more words also keeping the sentiment\"\n",
    "\n",
    "template_3_paraphrases = \"Generate 3 different paraphrases for the following text, preserving the sentiment of the following statement: {text}\"\n",
    "\n",
    "template_new_text = \"Based on the given text, generate another text with a completely new theme, but be inspired by the original text and keep the sentiment of the old one in the new text. Original text: {text}\"\n",
    "template_new_text_v2 = \"Based on the given text, generate another text with a completely new theme, but be inspired by the original text and keep a {sentiment} sentiment. Original text: {text}\" \n",
    "\n",
    "# chat = openai.ChatCompletion.create(\n",
    "#     model=\"gpt-3.5-turbo\", messages=[{\"role\": \"user\", \"content\": \"tell something\"}]\n",
    "# )\n",
    "# chat"
   ]
  },
  {
   "cell_type": "code",
   "execution_count": 31,
   "id": "54427915-e509-4dad-8a69-2dbaee38e8c3",
   "metadata": {},
   "outputs": [],
   "source": [
    "# chat.choices[0].message.content"
   ]
  },
  {
   "cell_type": "code",
   "execution_count": 32,
   "id": "46feaef2-c89d-4f89-9adf-88a35fbf671a",
   "metadata": {},
   "outputs": [],
   "source": [
    "def save_df(i, dictionary, filename):\n",
    "    df = pd.DataFrame(data=dictionary)\n",
    "    if i == 0:\n",
    "        df.to_csv(filename, index=False)\n",
    "    else:\n",
    "        df.to_csv(filename, mode=\"a\", index=False, header=False)\n",
    "\n",
    "def get_response(messages):\n",
    "    not_done = True\n",
    "    too_long = False\n",
    "    curr_response = \"\"\n",
    "    while not_done:\n",
    "        try:\n",
    "            chat = openai.ChatCompletion.create(\n",
    "                model=\"gpt-3.5-turbo\", messages=messages\n",
    "            )\n",
    "            curr_response = chat.choices[0].message.content\n",
    "            not_done = False\n",
    "        except openai.error.InvalidRequestError:\n",
    "            too_long = True\n",
    "            not_done = False\n",
    "        except (openai.error.ServiceUnavailableError, openai.error.APIError):\n",
    "            time.sleep(5)\n",
    "    curr_response = curr_response.replace(\"\\n\", \" \")\n",
    "    return curr_response, too_long\n",
    "\n",
    "def prepare_first_message(template, x, y):\n",
    "    form = {\"text\": x}\n",
    "    if \"{sentiment}\" in template:\n",
    "        form[\"sentiment\"] = y\n",
    "    curr_content = template.format(**form)\n",
    "    message = [{\"role\": \"user\", \"content\": curr_content}]\n",
    "    return message\n",
    "\n",
    "def prepare_second_message(template, msg, first_response):\n",
    "    form = {}\n",
    "    if \"{text}\" in template:\n",
    "        form[\"text\"] = x\n",
    "    if \"{sentiment}\" in template:\n",
    "        form[\"sentiment\"] = y\n",
    "    curr_content = template.format(**form)\n",
    "    msg.append({\"role\": \"assistant\", \"content\": first_response})\n",
    "    msg.append({\"role\": \"user\", \"content\": curr_content})\n",
    "    return msg\n",
    "\n",
    "\n",
    "def create_one_augumentation(dataset, template, filename, threshold=10):\n",
    "    augumented_data = {\"text\": [], \"label\": []}\n",
    "    # messeges = [{\"role\": \"user\", \"content\": \"{content}\"}]\n",
    "    if isfile(filename):\n",
    "        saved = pd.read_csv(filename)\n",
    "        saved_examples = saved.shape[0]\n",
    "    else:\n",
    "        saved_examples = 0\n",
    "    for i, (x, y) in tqdm(list(enumerate(zip(dataset.X, dataset.Y)))):\n",
    "        if i < saved_examples:\n",
    "            continue\n",
    "        curr_msg = prepare_first_message(template, x, y)\n",
    "        curr_response, too_long = get_response(curr_msg)\n",
    "        if too_long:\n",
    "            continue\n",
    "        augumented_data[\"text\"].append(curr_response)\n",
    "        augumented_data[\"label\"].append(y)\n",
    "        if i % threshold == 0:\n",
    "            save_df(i, augumented_data, filename)\n",
    "            augumented_data = {\"text\": [], \"label\": []}\n",
    "    if len(augumented_data[\"text\"]) > 0:\n",
    "        save_df(-1, augumented_data, filename)\n",
    "    return filename\n",
    "\n",
    "def prepare_collections(filename, suffix):\n",
    "    final_filename = filename.replace(\".csv\", f\"_{suffix}.csv\")\n",
    "    data = {\"text\": [], \"label\": []}\n",
    "    if isfile(final_filename):\n",
    "        saved = pd.read_csv(final_filename)\n",
    "        saved_examples = saved.shape[0]\n",
    "    else:\n",
    "        saved_examples = 0\n",
    "    return final_filename, data, saved_examples\n",
    "\n",
    "def create_many_augumentations(dataset, templates, filename, threshold=10):\n",
    "    first_filename, first_data, first_saved = prepare_collections(filename, \"normal\")\n",
    "    second_filename, second_data, second_saved = prepare_collections(filename, \"different_words\")\n",
    "    assert first_saved == second_saved\n",
    "\n",
    "    for i, (x, y) in tqdm(list(enumerate(zip(dataset.X, dataset.Y)))):\n",
    "        if i < first_saved:\n",
    "            continue\n",
    "        first_msg = prepare_first_message(templates[0], x, y)\n",
    "        first_response, too_long = get_response(first_msg)\n",
    "        if too_long:\n",
    "            continue\n",
    "        first_data[\"text\"].append(first_response)\n",
    "        first_data[\"label\"].append(y)\n",
    "\n",
    "        second_msg = prepare_second_message(templates[1], first_msg, first_response)\n",
    "        second_response, _ = get_response(second_msg)\n",
    "\n",
    "        second_data[\"text\"].append(second_response)\n",
    "        second_data[\"label\"].append(y)\n",
    "\n",
    "        if i % threshold == 0:\n",
    "            save_df(i, first_data, first_filename)\n",
    "            save_df(i, second_data, second_filename)\n",
    "            first_data = {\"text\": [], \"label\": []}\n",
    "            second_data = {\"text\": [], \"label\": []}\n",
    "        break\n",
    "    if len(first_data[\"text\"]) > 0:\n",
    "        save_df(-1, first_data, first_filename)\n",
    "    if len(second_data[\"text\"]) > 0:\n",
    "        save_df(-1, second_data, second_filename)\n",
    "    return first_filename, second_filename\n",
    "        "
   ]
  },
  {
   "cell_type": "code",
   "execution_count": 33,
   "id": "b6027c75-af3a-4db8-a36a-513e48577ebe",
   "metadata": {},
   "outputs": [
    {
     "name": "stderr",
     "output_type": "stream",
     "text": [
      "  0%|                                                                              | 1/3355 [00:16<15:43:27, 16.88s/it]\n"
     ]
    }
   ],
   "source": [
    "filename = join(datadir, \"paraphrase_train.csv\")\n",
    "fn1, fn2 = create_many_augumentations(dataset, (template_one_paraphrase, template_one_more_words), filename, threshold=10)"
   ]
  },
  {
   "cell_type": "code",
   "execution_count": 34,
   "id": "13e2fa80-dd33-4439-84f7-63697db88711",
   "metadata": {},
   "outputs": [],
   "source": [
    "df1 = pd.read_csv(fn1)\n",
    "df2 = pd.read_csv(fn2)"
   ]
  },
  {
   "cell_type": "code",
   "execution_count": 40,
   "id": "34a51c71-f965-42db-a8ef-481ae550fe82",
   "metadata": {},
   "outputs": [
    {
     "data": {
      "text/html": [
       "<div>\n",
       "<style scoped>\n",
       "    .dataframe tbody tr th:only-of-type {\n",
       "        vertical-align: middle;\n",
       "    }\n",
       "\n",
       "    .dataframe tbody tr th {\n",
       "        vertical-align: top;\n",
       "    }\n",
       "\n",
       "    .dataframe thead th {\n",
       "        text-align: right;\n",
       "    }\n",
       "</style>\n",
       "<table border=\"1\" class=\"dataframe\">\n",
       "  <thead>\n",
       "    <tr style=\"text-align: right;\">\n",
       "      <th></th>\n",
       "      <th>text</th>\n",
       "      <th>label</th>\n",
       "    </tr>\n",
       "  </thead>\n",
       "  <tbody>\n",
       "    <tr>\n",
       "      <th>0</th>\n",
       "      <td>As an AI, I don't have feelings, but I'm here ...</td>\n",
       "      <td>Negative</td>\n",
       "    </tr>\n",
       "    <tr>\n",
       "      <th>1</th>\n",
       "      <td>The individual responsible for taking hostages...</td>\n",
       "      <td>Neutral</td>\n",
       "    </tr>\n",
       "  </tbody>\n",
       "</table>\n",
       "</div>"
      ],
      "text/plain": [
       "                                                text     label\n",
       "0  As an AI, I don't have feelings, but I'm here ...  Negative\n",
       "1  The individual responsible for taking hostages...   Neutral"
      ]
     },
     "execution_count": 40,
     "metadata": {},
     "output_type": "execute_result"
    }
   ],
   "source": [
    "df1"
   ]
  },
  {
   "cell_type": "code",
   "execution_count": 41,
   "id": "d89ce5fb-545f-4285-973d-a3690b66096e",
   "metadata": {},
   "outputs": [
    {
     "data": {
      "text/html": [
       "<div>\n",
       "<style scoped>\n",
       "    .dataframe tbody tr th:only-of-type {\n",
       "        vertical-align: middle;\n",
       "    }\n",
       "\n",
       "    .dataframe tbody tr th {\n",
       "        vertical-align: top;\n",
       "    }\n",
       "\n",
       "    .dataframe thead th {\n",
       "        text-align: right;\n",
       "    }\n",
       "</style>\n",
       "<table border=\"1\" class=\"dataframe\">\n",
       "  <thead>\n",
       "    <tr style=\"text-align: right;\">\n",
       "      <th></th>\n",
       "      <th>text</th>\n",
       "      <th>label</th>\n",
       "    </tr>\n",
       "  </thead>\n",
       "  <tbody>\n",
       "    <tr>\n",
       "      <th>0</th>\n",
       "      <td>As an AI, I don't have feelings or emotions, b...</td>\n",
       "      <td>Negative</td>\n",
       "    </tr>\n",
       "    <tr>\n",
       "      <th>1</th>\n",
       "      <td>The former Police Senior Inspector Rolando Men...</td>\n",
       "      <td>Neutral</td>\n",
       "    </tr>\n",
       "  </tbody>\n",
       "</table>\n",
       "</div>"
      ],
      "text/plain": [
       "                                                text     label\n",
       "0  As an AI, I don't have feelings or emotions, b...  Negative\n",
       "1  The former Police Senior Inspector Rolando Men...   Neutral"
      ]
     },
     "execution_count": 41,
     "metadata": {},
     "output_type": "execute_result"
    }
   ],
   "source": [
    "df2"
   ]
  },
  {
   "cell_type": "code",
   "execution_count": 12,
   "id": "d4204dee-0be8-4ae9-8a7b-fe7621a51cde",
   "metadata": {},
   "outputs": [],
   "source": [
    "# filename = join(datadir, \"new_text_train.csv\")\n",
    "\n",
    "# create_one_augumentation(dataset, template_new_text, filename, threshold=100)"
   ]
  },
  {
   "cell_type": "code",
   "execution_count": 29,
   "id": "1634b8e3-fa39-4e4e-86de-bb7e7d7113fc",
   "metadata": {},
   "outputs": [],
   "source": [
    "# df = pd.read_csv(filename)"
   ]
  },
  {
   "cell_type": "code",
   "execution_count": 30,
   "id": "2ebcd51b-6964-4ee8-946a-801b1826acca",
   "metadata": {},
   "outputs": [
    {
     "data": {
      "text/html": [
       "<div>\n",
       "<style scoped>\n",
       "    .dataframe tbody tr th:only-of-type {\n",
       "        vertical-align: middle;\n",
       "    }\n",
       "\n",
       "    .dataframe tbody tr th {\n",
       "        vertical-align: top;\n",
       "    }\n",
       "\n",
       "    .dataframe thead th {\n",
       "        text-align: right;\n",
       "    }\n",
       "</style>\n",
       "<table border=\"1\" class=\"dataframe\">\n",
       "  <thead>\n",
       "    <tr style=\"text-align: right;\">\n",
       "      <th></th>\n",
       "      <th>text</th>\n",
       "      <th>label</th>\n",
       "    </tr>\n",
       "  </thead>\n",
       "  <tbody>\n",
       "    <tr>\n",
       "      <th>0</th>\n",
       "      <td>Based on the given text, generate another text...</td>\n",
       "      <td>Negative</td>\n",
       "    </tr>\n",
       "    <tr>\n",
       "      <th>1</th>\n",
       "      <td>Based on the given text, generate another text...</td>\n",
       "      <td>Neutral</td>\n",
       "    </tr>\n",
       "    <tr>\n",
       "      <th>2</th>\n",
       "      <td>Based on the given text, generate another text...</td>\n",
       "      <td>Negative</td>\n",
       "    </tr>\n",
       "    <tr>\n",
       "      <th>3</th>\n",
       "      <td>Based on the given text, generate another text...</td>\n",
       "      <td>Neutral</td>\n",
       "    </tr>\n",
       "    <tr>\n",
       "      <th>4</th>\n",
       "      <td>Based on the given text, generate another text...</td>\n",
       "      <td>Neutral</td>\n",
       "    </tr>\n",
       "    <tr>\n",
       "      <th>...</th>\n",
       "      <td>...</td>\n",
       "      <td>...</td>\n",
       "    </tr>\n",
       "    <tr>\n",
       "      <th>3350</th>\n",
       "      <td>Based on the given text, generate another text...</td>\n",
       "      <td>Neutral</td>\n",
       "    </tr>\n",
       "    <tr>\n",
       "      <th>3351</th>\n",
       "      <td>Based on the given text, generate another text...</td>\n",
       "      <td>Neutral</td>\n",
       "    </tr>\n",
       "    <tr>\n",
       "      <th>3352</th>\n",
       "      <td>Based on the given text, generate another text...</td>\n",
       "      <td>Negative</td>\n",
       "    </tr>\n",
       "    <tr>\n",
       "      <th>3353</th>\n",
       "      <td>Based on the given text, generate another text...</td>\n",
       "      <td>Positive</td>\n",
       "    </tr>\n",
       "    <tr>\n",
       "      <th>3354</th>\n",
       "      <td>Based on the given text, generate another text...</td>\n",
       "      <td>Negative</td>\n",
       "    </tr>\n",
       "  </tbody>\n",
       "</table>\n",
       "<p>3355 rows × 2 columns</p>\n",
       "</div>"
      ],
      "text/plain": [
       "                                                   text     label\n",
       "0     Based on the given text, generate another text...  Negative\n",
       "1     Based on the given text, generate another text...   Neutral\n",
       "2     Based on the given text, generate another text...  Negative\n",
       "3     Based on the given text, generate another text...   Neutral\n",
       "4     Based on the given text, generate another text...   Neutral\n",
       "...                                                 ...       ...\n",
       "3350  Based on the given text, generate another text...   Neutral\n",
       "3351  Based on the given text, generate another text...   Neutral\n",
       "3352  Based on the given text, generate another text...  Negative\n",
       "3353  Based on the given text, generate another text...  Positive\n",
       "3354  Based on the given text, generate another text...  Negative\n",
       "\n",
       "[3355 rows x 2 columns]"
      ]
     },
     "execution_count": 30,
     "metadata": {},
     "output_type": "execute_result"
    }
   ],
   "source": [
    "# df"
   ]
  },
  {
   "cell_type": "code",
   "execution_count": 3,
   "id": "654dfc0d-0832-473a-b2f7-82f5257bd777",
   "metadata": {},
   "outputs": [
    {
     "data": {
      "text/plain": [
       "\"As an AI, I don't have feelings, but I'm here to help. How can I assist you today?\""
      ]
     },
     "execution_count": 3,
     "metadata": {},
     "output_type": "execute_result"
    }
   ],
   "source": [
    "# curr_msg = [{\"role\":\"user\", \"content\": \"How are you?\"}]\n",
    "# chat = openai.ChatCompletion.create(\n",
    "#     model=\"gpt-3.5-turbo\", messages=curr_msg\n",
    "# )\n",
    "# curr_response = chat.choices[0].message.content\n",
    "# curr_response"
   ]
  },
  {
   "cell_type": "code",
   "execution_count": 5,
   "id": "6fff4e3d-7d49-4fb0-a487-f1847f5485e0",
   "metadata": {},
   "outputs": [
    {
     "data": {
      "text/plain": [
       "'There is no object or substance that is inherently blue and smells like red paint, as the color blue and the smell of red paint are distinct qualities.'"
      ]
     },
     "execution_count": 5,
     "metadata": {},
     "output_type": "execute_result"
    }
   ],
   "source": [
    "# curr_msg2 = [{\"role\":\"user\", \"content\": \"How are you?\"},\n",
    "#             {\"role\": \"assistant\", \"content\": curr_response},\n",
    "#             {\"role\":\"user\", \"content\": \"Tell me what is blue and smell like red paint?\"}]\n",
    "# chat2 = openai.ChatCompletion.create(\n",
    "#     model=\"gpt-3.5-turbo\", messages=curr_msg2\n",
    "# )\n",
    "# curr_response2 = chat2.choices[0].message.content\n",
    "# curr_response2"
   ]
  },
  {
   "cell_type": "code",
   "execution_count": 6,
   "id": "24f5d3a0-6f6d-469b-a348-6c891df373e5",
   "metadata": {},
   "outputs": [
    {
     "data": {
      "text/plain": [
       "[<OpenAIObject at 0x7fad02ca3cb0> JSON: {\n",
       "   \"index\": 0,\n",
       "   \"message\": {\n",
       "     \"role\": \"assistant\",\n",
       "     \"content\": \"There is no object or substance that is inherently blue and smells like red paint, as the color blue and the smell of red paint are distinct qualities.\"\n",
       "   },\n",
       "   \"finish_reason\": \"stop\"\n",
       " }]"
      ]
     },
     "execution_count": 6,
     "metadata": {},
     "output_type": "execute_result"
    }
   ],
   "source": [
    "# chat2.choices"
   ]
  }
 ],
 "metadata": {
  "kernelspec": {
   "display_name": "Python 3 (ipykernel)",
   "language": "python",
   "name": "python3"
  },
  "language_info": {
   "codemirror_mode": {
    "name": "ipython",
    "version": 3
   },
   "file_extension": ".py",
   "mimetype": "text/x-python",
   "name": "python",
   "nbconvert_exporter": "python",
   "pygments_lexer": "ipython3",
   "version": "3.11.4"
  }
 },
 "nbformat": 4,
 "nbformat_minor": 5
}
